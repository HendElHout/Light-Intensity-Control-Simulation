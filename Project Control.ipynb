{
 "cells": [
  {
   "cell_type": "code",
   "execution_count": 4,
   "id": "2b11897e-4e42-401b-a25a-8deafeb5acce",
   "metadata": {},
   "outputs": [
    {
     "data": {
      "application/vnd.jupyter.widget-view+json": {
       "model_id": "b4ef3d5904404e96adc095f652831b4c",
       "version_major": 2,
       "version_minor": 0
      },
      "text/plain": [
       "VBox(children=(ToggleButtons(button_style='info', description='Mode:', index=2, options=('P', 'PI', 'PID'), va…"
      ]
     },
     "metadata": {},
     "output_type": "display_data"
    },
    {
     "data": {
      "application/vnd.jupyter.widget-view+json": {
       "model_id": "13604924b62b42f6b4afa1bb0a6e1e74",
       "version_major": 2,
       "version_minor": 0
      },
      "text/plain": [
       "Output()"
      ]
     },
     "metadata": {},
     "output_type": "display_data"
    }
   ],
   "source": [
    "# Light Intensity Control Simulation (P/PI/PID Controller + Interactive Dashboard)\n",
    "# The goal is to simulate a light control system using PID, PI, and P controllers with interactive widgets.\n",
    "\n",
    "# Import necessary libraries\n",
    "import matplotlib.pyplot as plt  # For plotting the graphs\n",
    "import numpy as np  # For numerical operations\n",
    "import ipywidgets as widgets  # For interactive widgets\n",
    "from IPython.display import display, clear_output  # For displaying widgets and clearing outputs\n",
    "import json  # For saving best parameters to a JSON file\n",
    "\n",
    "# --- Interactive Controls ---\n",
    "# Creating widgets for user interaction\n",
    "controller_type = widgets.ToggleButtons(\n",
    "    options=['P', 'PI', 'PID'],  # Available controllers to switch between\n",
    "    value='PID',  # Default controller\n",
    "    description='Mode:',  # Label for the widget\n",
    "    button_style='info'  # Style of the button\n",
    ")\n",
    "\n",
    "kp_slider = widgets.FloatSlider(value=0.5, min=0, max=2.0, step=0.05, description='Kp')  # Kp slider for P/PI/PID\n",
    "ki_slider = widgets.FloatSlider(value=0.1, min=0, max=1.0, step=0.01, description='Ki')  # Ki slider for PI/PID\n",
    "kd_slider = widgets.FloatSlider(value=0.05, min=0, max=1.0, step=0.01, description='Kd')  # Kd slider for PID\n",
    "set_point_slider = widgets.IntSlider(value=70, min=0, max=100, step=1, description='Target (%)')  # Desired light level (target)\n",
    "save_button = widgets.Button(description='💾 Save Best Params', button_style='success')  # Save button for best parameters\n",
    "\n",
    "# --- PID Simulation Function ---\n",
    "# This function will simulate the light intensity control based on the chosen controller and parameters\n",
    "def run_pid_simulation(kp, ki, kd, set_point, mode):\n",
    "    light_level = 30  # Initial light level (could be any value between 0 and 100)\n",
    "    integral = 0  # Integral part of PID\n",
    "    prev_error = 0  # Previous error value to compute the derivative\n",
    "\n",
    "    light_history = []  # List to store light levels over time\n",
    "    error_history = []  # List to store error values over time\n",
    "    control_signal_history = []  # List to store control signals over time\n",
    "\n",
    "    # Simulating over 50 time steps\n",
    "    for t in range(50):\n",
    "        ambient_change = np.sin(t / 6.0) * 3 + np.random.normal(0, 1)  # Ambient light change (sine wave with noise)\n",
    "        error = set_point - light_level  # Calculate error\n",
    "        integral += error if mode in ['PI', 'PID'] else 0  # Only use integral for PI/PID\n",
    "        derivative = error - prev_error if mode == 'PID' else 0  # Derivative only for PID\n",
    "\n",
    "        control_signal = kp * error + ki * integral + kd * derivative  # Calculate the control signal\n",
    "        light_level += control_signal + ambient_change  # Update light level with control signal and ambient change\n",
    "        light_level = max(0, min(100, light_level))  # Keep the light level within bounds (0-100)\n",
    "        prev_error = error  # Update the previous error value\n",
    "\n",
    "        light_history.append(light_level)  # Store the current light level\n",
    "        error_history.append(error)  # Store the current error\n",
    "        control_signal_history.append(control_signal)  # Store the control signal\n",
    "\n",
    "    # Clearing output for a clean display of new results\n",
    "    clear_output(wait=True)\n",
    "\n",
    "    # Plotting the results (light level, error, control signal over time)\n",
    "    fig, axs = plt.subplots(3, 1, figsize=(10, 12))\n",
    "\n",
    "    # Plot light intensity over time\n",
    "    axs[0].plot(light_history, label='Light Intensity', color='blue')\n",
    "    axs[0].axhline(set_point, color='red', linestyle='--', label='Target')\n",
    "    axs[0].set_title('Light Intensity Over Time')\n",
    "    axs[0].set_ylabel('Intensity (%)')\n",
    "    axs[0].legend()\n",
    "    axs[0].grid(True)\n",
    "\n",
    "    # Plot error over time\n",
    "    axs[1].plot(error_history, label='Error', color='orange')\n",
    "    axs[1].set_title('Error Over Time')\n",
    "    axs[1].set_ylabel('Error')\n",
    "    axs[1].legend()\n",
    "    axs[1].grid(True)\n",
    "\n",
    "    # Plot control signal over time\n",
    "    axs[2].plot(control_signal_history, label='Control Signal', color='green')\n",
    "    axs[2].set_title('Control Signal Over Time')\n",
    "    axs[2].set_ylabel('Signal Value')\n",
    "    axs[2].legend()\n",
    "    axs[2].grid(True)\n",
    "\n",
    "    plt.tight_layout()  # Adjust layout for better appearance\n",
    "    plt.show()  # Display all plots\n",
    "\n",
    "# --- Save Best Parameters ---\n",
    "# Function to save the best parameters (used in the \"Save Best Params\" button)\n",
    "def save_params(btn):\n",
    "    params = {\n",
    "        'controller': controller_type.value,  # Selected controller type (P/PI/PID)\n",
    "        'Kp': kp_slider.value,  # Kp value\n",
    "        'Ki': ki_slider.value,  # Ki value\n",
    "        'Kd': kd_slider.value,  # Kd value\n",
    "        'Target': set_point_slider.value  # Target light level\n",
    "    }\n",
    "    with open(\"best_params.json\", \"w\") as f:  # Save to a JSON file\n",
    "        json.dump(params, f)\n",
    "    print(\"Parameters saved to best_params.json\")  # Notify the user\n",
    "\n",
    "# Linking the save button with the function\n",
    "save_button.on_click(save_params)\n",
    "\n",
    "# --- Interactive Output ---\n",
    "# Display the UI and the simulation outputs (the controller widgets and plots)\n",
    "ui = widgets.VBox([controller_type, kp_slider, ki_slider, kd_slider, set_point_slider, save_button])  # Arrange widgets\n",
    "out = widgets.interactive_output(run_pid_simulation, {  # Link function with inputs\n",
    "    'kp': kp_slider,\n",
    "    'ki': ki_slider,\n",
    "    'kd': kd_slider,\n",
    "    'set_point': set_point_slider,\n",
    "    'mode': controller_type\n",
    "})\n",
    "\n",
    "display(ui, out)  # Display everything\n"
   ]
  },
  {
   "cell_type": "code",
   "execution_count": null,
   "id": "e8e043d9-1748-4046-abef-978b93852765",
   "metadata": {},
   "outputs": [],
   "source": []
  }
 ],
 "metadata": {
  "kernelspec": {
   "display_name": "Python 3 (ipykernel)",
   "language": "python",
   "name": "python3"
  },
  "language_info": {
   "codemirror_mode": {
    "name": "ipython",
    "version": 3
   },
   "file_extension": ".py",
   "mimetype": "text/x-python",
   "name": "python",
   "nbconvert_exporter": "python",
   "pygments_lexer": "ipython3",
   "version": "3.12.7"
  }
 },
 "nbformat": 4,
 "nbformat_minor": 5
}
